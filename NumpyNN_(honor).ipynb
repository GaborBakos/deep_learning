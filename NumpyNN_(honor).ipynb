{
  "nbformat": 4,
  "nbformat_minor": 0,
  "metadata": {
    "kernelspec": {
      "display_name": "Python 3",
      "language": "python",
      "name": "python3"
    },
    "language_info": {
      "codemirror_mode": {
        "name": "ipython",
        "version": 3
      },
      "file_extension": ".py",
      "mimetype": "text/x-python",
      "name": "python",
      "nbconvert_exporter": "python",
      "pygments_lexer": "ipython3",
      "version": "3.6.5"
    },
    "toc": {
      "colors": {
        "hover_highlight": "#DAA520",
        "navigate_num": "#000000",
        "navigate_text": "#333333",
        "running_highlight": "#FF0000",
        "selected_highlight": "#FFD700",
        "sidebar_border": "#EEEEEE",
        "wrapper_background": "#FFFFFF"
      },
      "moveMenuLeft": true,
      "nav_menu": {
        "height": "264px",
        "width": "252px"
      },
      "navigate_menu": true,
      "number_sections": true,
      "sideBar": true,
      "threshold": 4,
      "toc_cell": false,
      "toc_section_display": "block",
      "toc_window_display": false,
      "widenNotebook": false
    },
    "colab": {
      "name": "NumpyNN (honor).ipynb",
      "provenance": [],
      "collapsed_sections": [],
      "include_colab_link": true
    }
  },
  "cells": [
    {
      "cell_type": "markdown",
      "metadata": {
        "id": "view-in-github",
        "colab_type": "text"
      },
      "source": [
        "<a href=\"https://colab.research.google.com/github/GaborBakos/deep_learning/blob/main/NumpyNN_(honor).ipynb\" target=\"_parent\"><img src=\"https://colab.research.google.com/assets/colab-badge.svg\" alt=\"Open In Colab\"/></a>"
      ]
    },
    {
      "cell_type": "markdown",
      "metadata": {
        "id": "XJwYS3sj4qn0"
      },
      "source": [
        "### Your very own neural network\n",
        "\n",
        "In this notebook we're going to build a neural network using naught but pure numpy and steel nerves. It's going to be fun, I promise!\n",
        "\n",
        "<img src=\"https://github.com/hse-aml/intro-to-dl/blob/master/week2/frankenstein.png?raw=1\" style=\"width:20%\">"
      ]
    },
    {
      "cell_type": "code",
      "metadata": {
        "id": "YRvjzX2q43xn",
        "outputId": "db960111-d10a-445d-8dc1-2980159784ed",
        "colab": {
          "base_uri": "https://localhost:8080/",
          "height": 329
        }
      },
      "source": [
        "! shred -u setup_google_colab.py\n",
        "! wget https://raw.githubusercontent.com/hse-aml/intro-to-dl/master/setup_google_colab.py -O setup_google_colab.py\n",
        "import setup_google_colab\n",
        "\n",
        "setup_google_colab.setup_week2_honor()"
      ],
      "execution_count": 1,
      "outputs": [
        {
          "output_type": "stream",
          "text": [
            "shred: setup_google_colab.py: failed to open for writing: No such file or directory\n",
            "--2020-10-08 08:46:19--  https://raw.githubusercontent.com/hse-aml/intro-to-dl/master/setup_google_colab.py\n",
            "Resolving raw.githubusercontent.com (raw.githubusercontent.com)... 151.101.0.133, 151.101.64.133, 151.101.128.133, ...\n",
            "Connecting to raw.githubusercontent.com (raw.githubusercontent.com)|151.101.0.133|:443... connected.\n",
            "HTTP request sent, awaiting response... 200 OK\n",
            "Length: 3636 (3.6K) [text/plain]\n",
            "Saving to: ‘setup_google_colab.py’\n",
            "\n",
            "setup_google_colab. 100%[===================>]   3.55K  --.-KB/s    in 0s      \n",
            "\n",
            "2020-10-08 08:46:19 (50.3 MB/s) - ‘setup_google_colab.py’ saved [3636/3636]\n",
            "\n",
            "**************************************************\n",
            "inception_v3_weights_tf_dim_ordering_tf_kernels_notop.h5\n",
            "**************************************************\n",
            "cifar-10-batches-py.tar.gz\n",
            "**************************************************\n",
            "mnist.npz\n"
          ],
          "name": "stdout"
        }
      ]
    },
    {
      "cell_type": "code",
      "metadata": {
        "id": "g2y_OrL456EZ",
        "outputId": "789b1459-c5cb-477d-f150-e9628223fab6",
        "colab": {
          "base_uri": "https://localhost:8080/",
          "height": 765
        }
      },
      "source": [
        "!pip install tensorflow==1.2"
      ],
      "execution_count": 2,
      "outputs": [
        {
          "output_type": "stream",
          "text": [
            "Collecting tensorflow==1.2\n",
            "\u001b[?25l  Downloading https://files.pythonhosted.org/packages/5e/55/7995cc1e9e60fa37ea90e6777d832e75026fde5c6109215d892aaff2e9b7/tensorflow-1.2.0-cp36-cp36m-manylinux1_x86_64.whl (35.0MB)\n",
            "\u001b[K     |████████████████████████████████| 35.0MB 106kB/s \n",
            "\u001b[?25hRequirement already satisfied: six>=1.10.0 in /usr/local/lib/python3.6/dist-packages (from tensorflow==1.2) (1.15.0)\n",
            "Collecting markdown==2.2.0\n",
            "\u001b[?25l  Downloading https://files.pythonhosted.org/packages/ac/99/288a81a38526a42c98b5b9832c6e339ca8d5dd38b19a53abfac7c8037c7f/Markdown-2.2.0.tar.gz (236kB)\n",
            "\u001b[K     |████████████████████████████████| 245kB 25.4MB/s \n",
            "\u001b[?25hCollecting backports.weakref==1.0rc1\n",
            "  Downloading https://files.pythonhosted.org/packages/6a/f7/ae34b6818b603e264f26fe7db2bd07850ce331ce2fde74b266d61f4a2d87/backports.weakref-1.0rc1-py3-none-any.whl\n",
            "Collecting bleach==1.5.0\n",
            "  Downloading https://files.pythonhosted.org/packages/33/70/86c5fec937ea4964184d4d6c4f0b9551564f821e1c3575907639036d9b90/bleach-1.5.0-py2.py3-none-any.whl\n",
            "Requirement already satisfied: numpy>=1.11.0 in /usr/local/lib/python3.6/dist-packages (from tensorflow==1.2) (1.18.5)\n",
            "Collecting html5lib==0.9999999\n",
            "\u001b[?25l  Downloading https://files.pythonhosted.org/packages/ae/ae/bcb60402c60932b32dfaf19bb53870b29eda2cd17551ba5639219fb5ebf9/html5lib-0.9999999.tar.gz (889kB)\n",
            "\u001b[K     |████████████████████████████████| 890kB 26.9MB/s \n",
            "\u001b[?25hRequirement already satisfied: protobuf>=3.2.0 in /usr/local/lib/python3.6/dist-packages (from tensorflow==1.2) (3.12.4)\n",
            "Requirement already satisfied: werkzeug>=0.11.10 in /usr/local/lib/python3.6/dist-packages (from tensorflow==1.2) (1.0.1)\n",
            "Requirement already satisfied: wheel>=0.26 in /usr/local/lib/python3.6/dist-packages (from tensorflow==1.2) (0.35.1)\n",
            "Requirement already satisfied: setuptools in /usr/local/lib/python3.6/dist-packages (from protobuf>=3.2.0->tensorflow==1.2) (50.3.0)\n",
            "Building wheels for collected packages: markdown, html5lib\n",
            "  Building wheel for markdown (setup.py) ... \u001b[?25l\u001b[?25hdone\n",
            "  Created wheel for markdown: filename=Markdown-2.2.0-cp36-none-any.whl size=136294 sha256=f7a969e8f79b5881416065d37553e996f18c665591e0eada0e43e3c1f934b3ba\n",
            "  Stored in directory: /root/.cache/pip/wheels/b6/52/17/f0af18e3e0ec6fa60b361ffed15b4c3468f6f3bcdb87fbe079\n",
            "  Building wheel for html5lib (setup.py) ... \u001b[?25l\u001b[?25hdone\n",
            "  Created wheel for html5lib: filename=html5lib-0.9999999-cp36-none-any.whl size=107220 sha256=9f36d681eb58695255fbcdd8fe8c90047b1d8d5c7f6ec1cce176d19799245264\n",
            "  Stored in directory: /root/.cache/pip/wheels/50/ae/f9/d2b189788efcf61d1ee0e36045476735c838898eef1cad6e29\n",
            "Successfully built markdown html5lib\n",
            "\u001b[31mERROR: tensorboard 2.3.0 has requirement markdown>=2.6.8, but you'll have markdown 2.2.0 which is incompatible.\u001b[0m\n",
            "Installing collected packages: markdown, backports.weakref, html5lib, bleach, tensorflow\n",
            "  Found existing installation: Markdown 3.2.2\n",
            "    Uninstalling Markdown-3.2.2:\n",
            "      Successfully uninstalled Markdown-3.2.2\n",
            "  Found existing installation: html5lib 1.0.1\n",
            "    Uninstalling html5lib-1.0.1:\n",
            "      Successfully uninstalled html5lib-1.0.1\n",
            "  Found existing installation: bleach 3.2.1\n",
            "    Uninstalling bleach-3.2.1:\n",
            "      Successfully uninstalled bleach-3.2.1\n",
            "  Found existing installation: tensorflow 2.3.0\n",
            "    Uninstalling tensorflow-2.3.0:\n",
            "      Successfully uninstalled tensorflow-2.3.0\n",
            "Successfully installed backports.weakref-1.0rc1 bleach-1.5.0 html5lib-0.9999999 markdown-2.2.0 tensorflow-1.2.0\n"
          ],
          "name": "stdout"
        }
      ]
    },
    {
      "cell_type": "code",
      "metadata": {
        "id": "aiJ8Ujhh4qn1"
      },
      "source": [
        "import sys\n",
        "sys.path.append(\"..\")\n",
        "import tqdm_utils\n",
        "import download_utils"
      ],
      "execution_count": 3,
      "outputs": []
    },
    {
      "cell_type": "code",
      "metadata": {
        "id": "6VNd8QZo4qn7"
      },
      "source": [
        "# use the preloaded keras datasets and models\n",
        "download_utils.link_all_keras_resources()"
      ],
      "execution_count": 4,
      "outputs": []
    },
    {
      "cell_type": "code",
      "metadata": {
        "id": "se-hLKtH4qn-"
      },
      "source": [
        "from __future__ import print_function\n",
        "import numpy as np\n",
        "np.random.seed(42)"
      ],
      "execution_count": 5,
      "outputs": []
    },
    {
      "cell_type": "markdown",
      "metadata": {
        "id": "zSVP_Ls34qoB"
      },
      "source": [
        "Here goes our main class: a layer that can do .forward() and .backward() passes."
      ]
    },
    {
      "cell_type": "code",
      "metadata": {
        "id": "jptDXDtb4qoC"
      },
      "source": [
        "class Layer:\n",
        "    \"\"\"\n",
        "    A building block. Each layer is capable of performing two things:\n",
        "    \n",
        "    - Process input to get output:           output = layer.forward(input)\n",
        "    \n",
        "    - Propagate gradients through itself:    grad_input = layer.backward(input, grad_output)\n",
        "    \n",
        "    Some layers also have learnable parameters which they update during layer.backward.\n",
        "    \"\"\"\n",
        "    def __init__(self):\n",
        "        \"\"\"Here you can initialize layer parameters (if any) and auxiliary stuff.\"\"\"\n",
        "        # A dummy layer does nothing\n",
        "        pass\n",
        "    \n",
        "    def forward(self, input):\n",
        "        \"\"\"\n",
        "        Takes input data of shape [batch, input_units], returns output data [batch, output_units]\n",
        "        \"\"\"\n",
        "        # A dummy layer just returns whatever it gets as input.\n",
        "        return input\n",
        "\n",
        "    def backward(self, input, grad_output):\n",
        "        \"\"\"\n",
        "        Performs a backpropagation step through the layer, with respect to the given input.\n",
        "        \n",
        "        To compute loss gradients w.r.t input, you need to apply chain rule (backprop):\n",
        "        \n",
        "        d loss / d x  = (d loss / d layer) * (d layer / d x)\n",
        "        \n",
        "        Luckily, you already receive d loss / d layer as input, so you only need to multiply it by d layer / d x.\n",
        "        \n",
        "        If your layer has parameters (e.g. dense layer), you also need to update them here using d loss / d layer\n",
        "        \"\"\"\n",
        "        # The gradient of a dummy layer is precisely grad_output, but we'll write it more explicitly\n",
        "        num_units = input.shape[1]\n",
        "        \n",
        "        d_layer_d_input = np.eye(num_units)\n",
        "        \n",
        "        return np.dot(grad_output, d_layer_d_input) # chain rule"
      ],
      "execution_count": 6,
      "outputs": []
    },
    {
      "cell_type": "markdown",
      "metadata": {
        "id": "i6svKxnv4qoF"
      },
      "source": [
        "### The road ahead\n",
        "\n",
        "We're going to build a neural network that classifies MNIST digits. To do so, we'll need a few building blocks:\n",
        "- Dense layer - a fully-connected layer, $f(X)=W \\cdot X + \\vec{b}$\n",
        "- ReLU layer (or any other nonlinearity you want)\n",
        "- Loss function - crossentropy\n",
        "- Backprop algorithm - a stochastic gradient descent with backpropageted gradients\n",
        "\n",
        "Let's approach them one at a time.\n"
      ]
    },
    {
      "cell_type": "markdown",
      "metadata": {
        "id": "nq-iE1uW4qoF"
      },
      "source": [
        "### Nonlinearity layer\n",
        "\n",
        "This is the simplest layer you can get: it simply applies a nonlinearity to each element of your network."
      ]
    },
    {
      "cell_type": "code",
      "metadata": {
        "id": "zMIigXhtFHhJ"
      },
      "source": [
        "class Sigmoid(Layer):\n",
        "    def __init__(self):\n",
        "        \"\"\"Sigmoid layer applying the sigmoid function to the inputs\"\"\"\n",
        "        pass\n",
        "\n",
        "    @staticmethod\n",
        "    def sigmoid(z):\n",
        "        return 1. / (1. + np.exp(-z))\n",
        "    \n",
        "    def forward(self, input):\n",
        "        return self.sigmoid(input)\n",
        "    \n",
        "    def bacward(self, input, grad_output):\n",
        "        sigmoid_grad = self.sigmoind(input) * (1. - self.sigmoid(input))\n",
        "        return grad_output * sigmoid_grad"
      ],
      "execution_count": 7,
      "outputs": []
    },
    {
      "cell_type": "code",
      "metadata": {
        "id": "HCSFzKYa4qoG"
      },
      "source": [
        "class ReLU(Layer):\n",
        "    def __init__(self):\n",
        "        \"\"\"ReLU layer simply applies elementwise rectified linear unit to all inputs\"\"\"\n",
        "        pass\n",
        "    \n",
        "    def forward(self, input):\n",
        "        \"\"\"Apply elementwise ReLU to [batch, input_units] matrix\"\"\"\n",
        "        return np.maximum(input, 0)\n",
        "        \n",
        "    def backward(self, input, grad_output):\n",
        "        \"\"\"Compute gradient of loss w.r.t. ReLU input\"\"\"\n",
        "        relu_grad = input > 0\n",
        "        return grad_output*relu_grad        "
      ],
      "execution_count": 8,
      "outputs": []
    },
    {
      "cell_type": "code",
      "metadata": {
        "id": "cgGYuPcM4qoJ"
      },
      "source": [
        "# some tests\n",
        "from util import eval_numerical_gradient\n",
        "x = np.linspace(-1,1,10*32).reshape([10,32])\n",
        "l = ReLU()\n",
        "grads = l.backward(x,np.ones([10,32])/(32*10))\n",
        "numeric_grads = eval_numerical_gradient(lambda x: l.forward(x).mean(), x=x)\n",
        "assert np.allclose(grads, numeric_grads, rtol=1e-3, atol=0),\\\n",
        "    \"gradient returned by your layer does not match the numerically computed gradient\""
      ],
      "execution_count": 9,
      "outputs": []
    },
    {
      "cell_type": "markdown",
      "metadata": {
        "id": "gKd3IuSh4qoM"
      },
      "source": [
        "#### Instant primer: lambda functions\n",
        "\n",
        "In python, you can define functions in one line using the `lambda` syntax: `lambda param1, param2: expression`\n",
        "\n",
        "For example: `f = lambda x, y: x+y` is equivalent to a normal function:\n",
        "\n",
        "```\n",
        "def f(x,y):\n",
        "    return x+y\n",
        "```\n",
        "For more information, click [here](http://www.secnetix.de/olli/Python/lambda_functions.hawk).    "
      ]
    },
    {
      "cell_type": "markdown",
      "metadata": {
        "id": "hhA1kLNw4qoN"
      },
      "source": [
        "### Dense layer\n",
        "\n",
        "Now let's build something more complicated. Unlike nonlinearity, a dense layer actually has something to learn.\n",
        "\n",
        "A dense layer applies affine transformation. In a vectorized form, it can be described as:\n",
        "$$f(X)= W \\cdot X + \\vec b $$\n",
        "\n",
        "Where \n",
        "* X is an object-feature matrix of shape [batch_size, num_features],\n",
        "* W is a weight matrix [num_features, num_outputs] \n",
        "* and b is a vector of num_outputs biases.\n",
        "\n",
        "Both W and b are initialized during layer creation and updated each time backward is called."
      ]
    },
    {
      "cell_type": "code",
      "metadata": {
        "id": "TRPwH6n44qoN"
      },
      "source": [
        "class Dense(Layer):\n",
        "    def __init__(self, input_units, output_units, learning_rate=0.1):\n",
        "        \"\"\"\n",
        "        A dense layer is a layer which performs a learned affine transformation:\n",
        "        f(x) = <W*x> + b\n",
        "        \"\"\"\n",
        "        self.learning_rate = learning_rate\n",
        "        \n",
        "        # initialize weights with small random numbers. We use normal initialization, \n",
        "        # but surely there is something better. Try this once you got it working: http://bit.ly/2vTlmaJ\n",
        "        self.weights = np.random.randn(input_units, output_units)*0.01\n",
        "        self.biases = np.zeros(output_units)\n",
        "        \n",
        "    def forward(self,input):\n",
        "        \"\"\"\n",
        "        Perform an affine transformation:\n",
        "        f(x) = <W*x> + b\n",
        "        \n",
        "        input shape: [batch, input_units]\n",
        "        output shape: [batch, output units]\n",
        "        \"\"\"\n",
        "        return input @ self.weights + self.biases\n",
        "    \n",
        "    def backward(self,input,grad_output, debug=False):\n",
        "        \n",
        "        # compute d f / d x = d f / d dense * d dense / d x\n",
        "        # where d dense/ d x = weights transposed\n",
        "        grad_input = grad_output @ self.weights.T #<your code here>\n",
        "        \n",
        "        # compute gradient w.r.t. weights and biases\n",
        "        grad_weights = input.T @ grad_output \n",
        "        grad_biases = grad_output.sum(axis=0)\n",
        "        \n",
        "        if debug:\n",
        "            print(f\"input shape: {input.shape}\")\n",
        "            print(f\"grad_output shape: {grad_output.shape}\")\n",
        "            print(f\"weights shape: {self.weights.shape}\")\n",
        "            print(f\"biases shape: {self.biases.shape}\")\n",
        "            print(f\"grad_input shape: {grad_input.shape}\")\n",
        "            print(f\"grad_weights shape: {grad_weights.shape}\")\n",
        "            print(f\"grad_biases shape: {grad_biases.shape}\")     \n",
        "        \n",
        "        assert grad_weights.shape == self.weights.shape and grad_biases.shape == self.biases.shape\n",
        "        # Here we perform a stochastic gradient descent step. \n",
        "        # Later on, you can try replacing that with something better.\n",
        "        self.weights = self.weights - self.learning_rate * grad_weights\n",
        "        self.biases = self.biases - self.learning_rate * grad_biases\n",
        "        \n",
        "        return grad_input"
      ],
      "execution_count": 10,
      "outputs": []
    },
    {
      "cell_type": "markdown",
      "metadata": {
        "id": "TAoTJoLB4qoQ"
      },
      "source": [
        "### Testing the dense layer\n",
        "\n",
        "Here we have a few tests to make sure your dense layer works properly. You can just run them, get 3 \"well done\"s and forget they ever existed.\n",
        "\n",
        "... or not get 3 \"well done\"s and go fix stuff. If that is the case, here are some tips for you:\n",
        "* Make sure you compute gradients for W and b as __sum of gradients over batch__, not mean over gradients. Grad_output is already divided by batch size.\n",
        "* If you're debugging, try saving gradients in class fields, like \"self.grad_w = grad_w\" or print first 3-5 weights. This helps debugging.\n",
        "* If nothing else helps, try ignoring tests and proceed to network training. If it trains alright, you may be off by something that does not affect network training."
      ]
    },
    {
      "cell_type": "code",
      "metadata": {
        "id": "eTuctm374qoR",
        "outputId": "e17334a2-0d3f-4a24-cdb7-721e8482ccaf",
        "colab": {
          "base_uri": "https://localhost:8080/",
          "height": 35
        }
      },
      "source": [
        "l = Dense(128, 150)\n",
        "\n",
        "assert -0.05 < l.weights.mean() < 0.05 and 1e-3 < l.weights.std() < 1e-1,\\\n",
        "    \"The initial weights must have zero mean and small variance. \"\\\n",
        "    \"If you know what you're doing, remove this assertion.\"\n",
        "assert -0.05 < l.biases.mean() < 0.05, \"Biases must be zero mean. Ignore if you have a reason to do otherwise.\"\n",
        "\n",
        "# To test the outputs, we explicitly set weights with fixed values. DO NOT DO THAT IN ACTUAL NETWORK!\n",
        "l = Dense(3,4)\n",
        "\n",
        "x = np.linspace(-1,1,2*3).reshape([2,3])\n",
        "l.weights = np.linspace(-1,1,3*4).reshape([3,4])\n",
        "l.biases = np.linspace(-1,1,4)\n",
        "\n",
        "assert np.allclose(l.forward(x),np.array([[ 0.07272727,  0.41212121,  0.75151515,  1.09090909],\n",
        "                                          [-0.90909091,  0.08484848,  1.07878788,  2.07272727]]))\n",
        "print(\"Well done!\")"
      ],
      "execution_count": 11,
      "outputs": [
        {
          "output_type": "stream",
          "text": [
            "Well done!\n"
          ],
          "name": "stdout"
        }
      ]
    },
    {
      "cell_type": "code",
      "metadata": {
        "id": "6EBOgKNn4qoU",
        "outputId": "1ed58664-9924-4d72-db71-d6ad92c453ec",
        "colab": {
          "base_uri": "https://localhost:8080/",
          "height": 35
        }
      },
      "source": [
        "# To test the grads, we use gradients obtained via finite differences\n",
        "\n",
        "from util import eval_numerical_gradient\n",
        "\n",
        "x = np.linspace(-1,1,10*32).reshape([10,32])\n",
        "l = Dense(32,64,learning_rate=0)\n",
        "\n",
        "numeric_grads = eval_numerical_gradient(lambda x: l.forward(x).sum(),x)\n",
        "grads = l.backward(x,np.ones([10,64]))\n",
        "\n",
        "assert np.allclose(grads,numeric_grads,rtol=1e-3,atol=0), \"input gradient does not match numeric grad\"\n",
        "print(\"Well done!\")"
      ],
      "execution_count": 12,
      "outputs": [
        {
          "output_type": "stream",
          "text": [
            "Well done!\n"
          ],
          "name": "stdout"
        }
      ]
    },
    {
      "cell_type": "code",
      "metadata": {
        "id": "FTotv10m4qoX",
        "outputId": "4b58a79c-0a50-4025-bf73-e45e45b9f0de",
        "colab": {
          "base_uri": "https://localhost:8080/",
          "height": 35
        }
      },
      "source": [
        "#test gradients w.r.t. params\n",
        "def compute_out_given_wb(w,b):\n",
        "    l = Dense(32,64,learning_rate=1)\n",
        "    l.weights = np.array(w)\n",
        "    l.biases = np.array(b)\n",
        "    x = np.linspace(-1,1,10*32).reshape([10,32])\n",
        "    return l.forward(x)\n",
        "    \n",
        "def compute_grad_by_params(w,b):\n",
        "    l = Dense(32,64,learning_rate=1)\n",
        "    l.weights = np.array(w)\n",
        "    l.biases = np.array(b)\n",
        "    x = np.linspace(-1,1,10*32).reshape([10,32])\n",
        "    l.backward(x,np.ones([10,64]) / 10.)\n",
        "    return w - l.weights, b - l.biases\n",
        "    \n",
        "w,b = np.random.randn(32,64), np.linspace(-1,1,64)\n",
        "\n",
        "numeric_dw = eval_numerical_gradient(lambda w: compute_out_given_wb(w,b).mean(0).sum(),w )\n",
        "numeric_db = eval_numerical_gradient(lambda b: compute_out_given_wb(w,b).mean(0).sum(),b )\n",
        "grad_w,grad_b = compute_grad_by_params(w,b)\n",
        "\n",
        "assert np.allclose(numeric_dw,grad_w,rtol=1e-3,atol=0), \"weight gradient does not match numeric weight gradient\"\n",
        "assert np.allclose(numeric_db,grad_b,rtol=1e-3,atol=0), \"weight gradient does not match numeric weight gradient\"\n",
        "print(\"Well done!\")"
      ],
      "execution_count": 13,
      "outputs": [
        {
          "output_type": "stream",
          "text": [
            "Well done!\n"
          ],
          "name": "stdout"
        }
      ]
    },
    {
      "cell_type": "markdown",
      "metadata": {
        "id": "8cE0b47i4qoZ"
      },
      "source": [
        "### The loss function\n",
        "\n",
        "Since we want to predict probabilities, it would be logical for us to define softmax nonlinearity on top of our network and compute loss given predicted probabilities. However, there is a better way to do so.\n",
        "\n",
        "If you write down the expression for crossentropy as a function of softmax logits (a), you'll see:\n",
        "\n",
        "$$ loss = - log \\space {e^{a_{correct}} \\over {\\underset i \\sum e^{a_i} } } $$\n",
        "\n",
        "If you take a closer look, ya'll see that it can be rewritten as:\n",
        "\n",
        "$$ loss = - a_{correct} + log {\\underset i \\sum e^{a_i} } $$\n",
        "\n",
        "It's called Log-softmax and it's better than naive log(softmax(a)) in all aspects:\n",
        "* Better numerical stability\n",
        "* Easier to get derivative right\n",
        "* Marginally faster to compute\n",
        "\n",
        "So why not just use log-softmax throughout our computation and never actually bother to estimate probabilities.\n",
        "\n",
        "Here you are! We've defined the both loss functions for you so that you could focus on neural network part."
      ]
    },
    {
      "cell_type": "code",
      "metadata": {
        "id": "8_GI-aMg4qoa"
      },
      "source": [
        "def softmax_crossentropy_with_logits(logits,reference_answers):\n",
        "    \"\"\"Compute crossentropy from logits[batch,n_classes] and ids of correct answers\"\"\"\n",
        "    logits_for_answers = logits[np.arange(len(logits)),reference_answers]\n",
        "    \n",
        "    xentropy = - logits_for_answers + np.log(np.sum(np.exp(logits),axis=-1))\n",
        "    \n",
        "    return xentropy\n",
        "\n",
        "def grad_softmax_crossentropy_with_logits(logits,reference_answers):\n",
        "    \"\"\"Compute crossentropy gradient from logits[batch,n_classes] and ids of correct answers\"\"\"\n",
        "    ones_for_answers = np.zeros_like(logits)\n",
        "    ones_for_answers[np.arange(len(logits)),reference_answers] = 1\n",
        "    \n",
        "    softmax = np.exp(logits) / np.exp(logits).sum(axis=-1,keepdims=True)\n",
        "    \n",
        "    return (- ones_for_answers + softmax) / logits.shape[0]"
      ],
      "execution_count": 14,
      "outputs": []
    },
    {
      "cell_type": "code",
      "metadata": {
        "id": "7lIXu-UA4qod"
      },
      "source": [
        "logits = np.linspace(-1,1,500).reshape([50,10])\n",
        "answers = np.arange(50)%10\n",
        "\n",
        "softmax_crossentropy_with_logits(logits,answers)\n",
        "grads = grad_softmax_crossentropy_with_logits(logits,answers)\n",
        "numeric_grads = eval_numerical_gradient(lambda l: softmax_crossentropy_with_logits(l,answers).mean(),logits)\n",
        "\n",
        "assert np.allclose(numeric_grads,grads,rtol=1e-3,atol=0), \"The reference implementation has just failed. Someone has just changed the rules of math.\""
      ],
      "execution_count": 15,
      "outputs": []
    },
    {
      "cell_type": "markdown",
      "metadata": {
        "id": "pwSvdy834qoh"
      },
      "source": [
        "### Full network\n",
        "\n",
        "Now let's combine what we've just built into a working neural network. As we announced, we're gonna use this monster to classify handwritten digits, so let's get them loaded."
      ]
    },
    {
      "cell_type": "code",
      "metadata": {
        "id": "lBmupTva4qoh",
        "outputId": "66775ab6-6913-4eee-971c-308fef2d9c39",
        "colab": {
          "base_uri": "https://localhost:8080/",
          "height": 635
        }
      },
      "source": [
        "import matplotlib.pyplot as plt\n",
        "%matplotlib inline\n",
        "\n",
        "from preprocessed_mnist import load_dataset\n",
        "X_train, y_train, X_val, y_val, X_test, y_test = load_dataset(flatten=True)\n",
        "\n",
        "plt.figure(figsize=[6,6])\n",
        "for i in range(4):\n",
        "    plt.subplot(2,2,i+1)\n",
        "    plt.title(\"Label: %i\"%y_train[i])\n",
        "    plt.imshow(X_train[i].reshape([28,28]),cmap='gray');"
      ],
      "execution_count": 16,
      "outputs": [
        {
          "output_type": "stream",
          "text": [
            "Using TensorFlow backend.\n",
            "/usr/local/lib/python3.6/dist-packages/tensorflow/python/framework/dtypes.py:458: FutureWarning: Passing (type, 1) or '1type' as a synonym of type is deprecated; in a future version of numpy, it will be understood as (type, (1,)) / '(1,)type'.\n",
            "  _np_qint8 = np.dtype([(\"qint8\", np.int8, 1)])\n",
            "/usr/local/lib/python3.6/dist-packages/tensorflow/python/framework/dtypes.py:459: FutureWarning: Passing (type, 1) or '1type' as a synonym of type is deprecated; in a future version of numpy, it will be understood as (type, (1,)) / '(1,)type'.\n",
            "  _np_quint8 = np.dtype([(\"quint8\", np.uint8, 1)])\n",
            "/usr/local/lib/python3.6/dist-packages/tensorflow/python/framework/dtypes.py:460: FutureWarning: Passing (type, 1) or '1type' as a synonym of type is deprecated; in a future version of numpy, it will be understood as (type, (1,)) / '(1,)type'.\n",
            "  _np_qint16 = np.dtype([(\"qint16\", np.int16, 1)])\n",
            "/usr/local/lib/python3.6/dist-packages/tensorflow/python/framework/dtypes.py:461: FutureWarning: Passing (type, 1) or '1type' as a synonym of type is deprecated; in a future version of numpy, it will be understood as (type, (1,)) / '(1,)type'.\n",
            "  _np_quint16 = np.dtype([(\"quint16\", np.uint16, 1)])\n",
            "/usr/local/lib/python3.6/dist-packages/tensorflow/python/framework/dtypes.py:462: FutureWarning: Passing (type, 1) or '1type' as a synonym of type is deprecated; in a future version of numpy, it will be understood as (type, (1,)) / '(1,)type'.\n",
            "  _np_qint32 = np.dtype([(\"qint32\", np.int32, 1)])\n",
            "/usr/local/lib/python3.6/dist-packages/tensorflow/python/framework/dtypes.py:465: FutureWarning: Passing (type, 1) or '1type' as a synonym of type is deprecated; in a future version of numpy, it will be understood as (type, (1,)) / '(1,)type'.\n",
            "  np_resource = np.dtype([(\"resource\", np.ubyte, 1)])\n"
          ],
          "name": "stderr"
        },
        {
          "output_type": "display_data",
          "data": {
            "image/png": "[encoded data removed]",
            "text/plain": [
              "<Figure size 432x432 with 4 Axes>"
            ]
          },
          "metadata": {
            "tags": [],
            "needs_background": "light"
          }
        }
      ]
    },
    {
      "cell_type": "markdown",
      "metadata": {
        "id": "mTkzZm7J4qok"
      },
      "source": [
        "We'll define network as a list of layers, each applied on top of previous one. In this setting, computing predictions and training becomes trivial."
      ]
    },
    {
      "cell_type": "code",
      "metadata": {
        "id": "CRWUbu104qok"
      },
      "source": [
        "network = []\n",
        "network.append(Dense(X_train.shape[1],100))\n",
        "network.append(ReLU())\n",
        "network.append(Dense(100,200))\n",
        "network.append(ReLU())\n",
        "network.append(Dense(200,10))"
      ],
      "execution_count": 17,
      "outputs": []
    },
    {
      "cell_type": "code",
      "metadata": {
        "id": "8qx5_dJD4qon"
      },
      "source": [
        "def forward(network, X):\n",
        "    \"\"\"\n",
        "    Compute activations of all network layers by applying them sequentially.\n",
        "    Return a list of activations for each layer. \n",
        "    Make sure last activation corresponds to network logits.\n",
        "    \"\"\"\n",
        "    activations = []\n",
        "    input = X\n",
        "\n",
        "    for layer in network:\n",
        "        input = layer.forward(input)\n",
        "        activations.append(input)\n",
        "        \n",
        "    assert len(activations) == len(network)\n",
        "    return activations\n",
        "\n",
        "def predict(network,X):\n",
        "    \"\"\"\n",
        "    Compute network predictions.\n",
        "    \"\"\"\n",
        "    logits = forward(network,X)[-1]\n",
        "    return logits.argmax(axis=-1)\n",
        "\n",
        "def train(network,X,y):\n",
        "    \"\"\"\n",
        "    Train your network on a given batch of X and y.\n",
        "    You first need to run forward to get all layer activations.\n",
        "    Then you can run layer.backward going from last to first layer.\n",
        "    \n",
        "    After you called backward for all layers, all Dense layers have already made one gradient step.\n",
        "    \"\"\"\n",
        "    \n",
        "    # Get the layer activations\n",
        "    layer_activations = forward(network,X)\n",
        "    layer_inputs = [X]+layer_activations  #layer_input[i] is an input for network[i]\n",
        "    logits = layer_activations[-1]\n",
        "    \n",
        "    # Compute the loss and the initial gradient\n",
        "    loss = softmax_crossentropy_with_logits(logits,y)\n",
        "    loss_grad = grad_softmax_crossentropy_with_logits(logits,y)    \n",
        "    \n",
        "    # <your code: propagate gradients through the network>    \n",
        "    network = network[::-1]\n",
        "    layer_inputs = layer_inputs[::-1]\n",
        "    for idx, layer in enumerate(network):\n",
        "        loss_grad = layer.backward(layer_inputs[idx + 1], loss_grad)\n",
        "    return np.mean(loss)"
      ],
      "execution_count": 18,
      "outputs": []
    },
    {
      "cell_type": "markdown",
      "metadata": {
        "id": "3ygbgyEI4qop"
      },
      "source": [
        "Instead of tests, we provide you with a training loop that prints training and validation accuracies on every epoch.\n",
        "\n",
        "If your implementation of forward and backward are correct, your accuracy should grow from 90~93% to >97% with the default network."
      ]
    },
    {
      "cell_type": "markdown",
      "metadata": {
        "id": "ROBBPnVZ4qoq"
      },
      "source": [
        "### Training loop\n",
        "\n",
        "As usual, we split data into minibatches, feed each such minibatch into the network and update weights."
      ]
    },
    {
      "cell_type": "code",
      "metadata": {
        "id": "PJ-BITE34qor"
      },
      "source": [
        "def iterate_minibatches(inputs, targets, batchsize, shuffle=False):\n",
        "    assert len(inputs) == len(targets)\n",
        "    if shuffle:\n",
        "        indices = np.random.permutation(len(inputs))\n",
        "    for start_idx in tqdm_utils.tqdm_notebook_failsafe(range(0, len(inputs) - batchsize + 1, batchsize)):\n",
        "        if shuffle:\n",
        "            excerpt = indices[start_idx:start_idx + batchsize]\n",
        "        else:\n",
        "            excerpt = slice(start_idx, start_idx + batchsize)\n",
        "        yield inputs[excerpt], targets[excerpt]"
      ],
      "execution_count": 19,
      "outputs": []
    },
    {
      "cell_type": "code",
      "metadata": {
        "id": "FDLGSqp54qot"
      },
      "source": [
        "from IPython.display import clear_output\n",
        "train_log = []\n",
        "val_log = []"
      ],
      "execution_count": 20,
      "outputs": []
    },
    {
      "cell_type": "code",
      "metadata": {
        "id": "w_DXqvnf4qow",
        "outputId": "100a700f-c867-4fc4-dbb8-35e87c5b7494",
        "colab": {
          "base_uri": "https://localhost:8080/",
          "height": 317
        }
      },
      "source": [
        "for epoch in range(5):\n",
        "\n",
        "    for x_batch,y_batch in iterate_minibatches(X_train,y_train,batchsize=32,shuffle=True):\n",
        "        train(network,x_batch,y_batch)\n",
        "    \n",
        "    train_log.append(np.mean(predict(network,X_train)==y_train))\n",
        "    val_log.append(np.mean(predict(network,X_val)==y_val))\n",
        "    \n",
        "    clear_output()\n",
        "    print(\"Epoch\",epoch)\n",
        "    print(\"Train accuracy:\",train_log[-1])\n",
        "    print(\"Val accuracy:\",val_log[-1])\n",
        "    plt.plot(train_log,label='train accuracy')\n",
        "    plt.plot(val_log,label='val accuracy')\n",
        "    plt.legend(loc='best')\n",
        "    plt.grid()\n",
        "    plt.show()\n",
        "    "
      ],
      "execution_count": 21,
      "outputs": [
        {
          "output_type": "stream",
          "text": [
            "Epoch 4\n",
            "Train accuracy: 0.98236\n",
            "Val accuracy: 0.9712\n"
          ],
          "name": "stdout"
        },
        {
          "output_type": "display_data",
          "data": {
            "image/png": "[encoded data removed]",
            "text/plain": [
              "<Figure size 432x288 with 1 Axes>"
            ]
          },
          "metadata": {
            "tags": [],
            "needs_background": "light"
          }
        }
      ]
    },
    {
      "cell_type": "markdown",
      "metadata": {
        "id": "wDCdNXbr4qoy"
      },
      "source": [
        "### Peer-reviewed assignment\n",
        "\n",
        "Congradulations, you managed to get this far! There is just one quest left undone, and this time you'll get to choose what to do.\n",
        "\n",
        "\n",
        "#### Option I: initialization\n",
        "* Implement Dense layer with Xavier initialization as explained [here](http://bit.ly/2vTlmaJ)\n",
        "\n",
        "To pass this assignment, you must conduct an experiment showing how xavier initialization compares to default initialization on deep networks (5+ layers).\n",
        "\n",
        "\n",
        "#### Option II: regularization\n",
        "* Implement a version of Dense layer with L2 regularization penalty: when updating Dense Layer weights, adjust gradients to minimize\n",
        "\n",
        "$$ Loss = Crossentropy + \\alpha \\cdot \\underset i \\sum {w_i}^2 $$\n",
        "\n",
        "To pass this assignment, you must conduct an experiment showing if regularization mitigates overfitting in case of abundantly large number of neurons. Consider tuning $\\alpha$ for better results.\n",
        "\n",
        "#### Option III: optimization\n",
        "* Implement a version of Dense layer that uses momentum/rmsprop or whatever method worked best for you last time.\n",
        "\n",
        "Most of those methods require persistent parameters like momentum direction or moving average grad norm, but you can easily store those params inside your layers.\n",
        "\n",
        "To pass this assignment, you must conduct an experiment showing how your chosen method performs compared to vanilla SGD.\n",
        "\n",
        "### General remarks\n",
        "_Please read the peer-review guidelines before starting this part of the assignment._\n",
        "\n",
        "In short, a good solution is one that:\n",
        "* is based on this notebook\n",
        "* runs in the default course environment with Run All\n",
        "* its code doesn't cause spontaneous eye bleeding\n",
        "* its report is easy to read.\n",
        "\n",
        "_Formally we can't ban you from writing boring reports, but if you bored your reviewer to death, there's noone left alive to give you the grade you want._\n",
        "\n",
        "\n",
        "### Bonus assignments\n",
        "\n",
        "As a bonus assignment (no points, just swag), consider implementing Batch Normalization ([guide](https://gab41.lab41.org/batch-normalization-what-the-hey-d480039a9e3b)) or Dropout ([guide](https://medium.com/@amarbudhiraja/https-medium-com-amarbudhiraja-learning-less-to-learn-better-dropout-in-deep-machine-learning-74334da4bfc5)). Note, however, that those \"layers\" behave differently when training and when predicting on test set.\n",
        "\n",
        "* Dropout:\n",
        "  * During training: drop units randomly with probability __p__ and multiply everything by __1/(1-p)__\n",
        "  * During final predicton: do nothing; pretend there's no dropout\n",
        "  \n",
        "* Batch normalization\n",
        "  * During training, it substracts mean-over-batch and divides by std-over-batch and updates mean and variance.\n",
        "  * During final prediction, it uses accumulated mean and variance.\n"
      ]
    },
    {
      "cell_type": "markdown",
      "metadata": {
        "id": "ZR4-vgWyNsf4"
      },
      "source": [
        "We will implement all three of the options, we will change the code in the following way:\n",
        "\n",
        "1.   Rewrite Dense class to be able to initialize weights with the Xavier method\n",
        "2.   Modify Dense.backward to allow the option of regularization\n",
        "3.   Add additional methods to improve the gradient update rules."
      ]
    },
    {
      "cell_type": "code",
      "metadata": {
        "id": "ICqBrH98VzB9",
        "outputId": "12ebcc67-89be-4549-c534-833ffd41fc95",
        "colab": {
          "base_uri": "https://localhost:8080/",
          "height": 35
        }
      },
      "source": [
        "import enum\n",
        "\n",
        "class Optimizers(enum.Enum):\n",
        "    momentum = \"momentum\"\n",
        "    rmsprop = \"rmsprop\"\n",
        "    adagrad = \"adagrad\"\n",
        "Optimizers.momentum"
      ],
      "execution_count": 22,
      "outputs": [
        {
          "output_type": "execute_result",
          "data": {
            "text/plain": [
              "<Optimizers.momentum: 'momentum'>"
            ]
          },
          "metadata": {
            "tags": []
          },
          "execution_count": 22
        }
      ]
    },
    {
      "cell_type": "code",
      "metadata": {
        "id": "r9hDxitgNnBU"
      },
      "source": [
        "class Dense(Layer):\n",
        "    def __init__(self, input_units, output_units, learning_rate=0.1, \n",
        "                 xavier_initialization=False, regularization=False,\n",
        "                 optimizer_type=None):\n",
        "        \"\"\"\n",
        "        A dense layer is a layer which performs a learned affine transformation:\n",
        "        f(x) = <W*x> + b\n",
        "        \"\"\"\n",
        "        self.learning_rate = learning_rate\n",
        "        \n",
        "        # initialize weights with small random numbers. We use normal initialization, \n",
        "        # but surely there is something better. Try this once you got it working: http://bit.ly/2vTlmaJ\n",
        "\n",
        "        if xavier_initialization:\n",
        "            variance = np.sqrt(1.0 / input_units) # Xavier initialization\n",
        "            # variance = np.sqrt(2.0 / (input_units + output_units)) # Glorot & Bengio’s\n",
        "            self.weights = variance * np.random.randn(input_units, output_units) \n",
        "        else:\n",
        "            self.weights = np.random.randn(input_units, output_units)*0.01\n",
        "        self.biases = np.zeros(output_units)\n",
        "\n",
        "        self.optimizer_type = optimizer_type\n",
        "        if self.optimizer_type == Optimizers.momentum:\n",
        "            self.nu_weights = np.zeros_like(self.weights)\n",
        "            self.nu_biases = np.zeros_like(self.biases)\n",
        "            self.alpha = 0.9\n",
        "        if self.optimizer_type == Optimizers.rmsprop:\n",
        "            self.alpha = 0.9\n",
        "            self.eps = 1e-8\n",
        "            self.G_weights = None\n",
        "            self.G_biases = None\n",
        "        if self.optimizer_type == Optimizers.adagrad:\n",
        "            self.beta1 = 0.9\n",
        "            self.beta2 = 0.999\n",
        "            self.eps = 1e-8\n",
        "            self.m_weights = 0\n",
        "            self.m_biases = 0\n",
        "            self.v_weights = 0\n",
        "            self.v_biases = 0\n",
        "        \n",
        "    def forward(self, X):\n",
        "        \"\"\"\n",
        "        Perform an affine transformation:\n",
        "        f(x) = <W*x> + b\n",
        "        \n",
        "        input shape: [batch, input_units]\n",
        "        output shape: [batch, output units]\n",
        "        \"\"\"\n",
        "        return X @ self.weights + self.biases\n",
        "    \n",
        "    def backward(self, X, grad_output, debug=False):\n",
        "        \n",
        "        # compute d f / d x = d f / d dense * d dense / d x\n",
        "        # where d dense/ d x = weights transposed\n",
        "        grad_input = grad_output @ self.weights.T\n",
        "        \n",
        "        # compute gradient w.r.t. weights and biases\n",
        "        grad_weights = X.T @ grad_output \n",
        "        grad_biases = grad_output.sum(axis=0)\n",
        "        \n",
        "        if debug:\n",
        "            print(f\"input shape: {X.shape}\")\n",
        "            print(f\"grad_output shape: {grad_output.shape}\")\n",
        "            print(f\"weights shape: {self.weights.shape}\")\n",
        "            print(f\"biases shape: {self.biases.shape}\")\n",
        "            print(f\"grad_input shape: {grad_input.shape}\")\n",
        "            print(f\"grad_weights shape: {grad_weights.shape}\")\n",
        "            print(f\"grad_biases shape: {grad_biases.shape}\")     \n",
        "        \n",
        "        assert grad_weights.shape == self.weights.shape and grad_biases.shape == self.biases.shape\n",
        "        # Here we perform a stochastic gradient descent step. \n",
        "        # Later on, you can try replacing that with something better.\n",
        "\n",
        "        self.optimize(grad_weights, grad_biases, self.optimizer_type)\n",
        "        return grad_input\n",
        "\n",
        "    def optimize(self, grad_weights, grad_biases, optimizer_type=None):\n",
        "        if optimizer_type is None:\n",
        "            self.weights = self.weights - self.learning_rate * grad_weights\n",
        "            self.biases = self.biases - self.learning_rate * grad_biases\n",
        "        \n",
        "        elif optimizer_type == Optimizers.momentum:\n",
        "            self.nu_weights = (self.alpha * self.nu_weights + (1. - self.alpha) *\n",
        "                               self.learning_rate * grad_weights)\n",
        "            self.weights = self.weights - self.nu_weights\n",
        "\n",
        "            self.nu_biases = (self.alpha * self.nu_biases + (1. - self.alpha) *\n",
        "                               self.learning_rate * grad_biases)\n",
        "            self.biases = self.biases - self.nu_biases\n",
        "        \n",
        "        elif optimizer_type == Optimizers.rmsprop:\n",
        "            g2_weights = grad_weights ** 2\n",
        "            if self.G_weights is None:\n",
        "                self.G_weights = g2_weights\n",
        "            self.G_weights = self.alpha * self.G_weights + (1. - self.alpha) * g2_weights\n",
        "            self.weights = self.weights - grad_weights * self.learning_rate / np.sqrt(self.G_weights + self.eps)\n",
        "            \n",
        "            g2_biases = grad_biases ** 2\n",
        "            if self.G_biases is None:\n",
        "                self.G_biases = g2_biases\n",
        "            self.G_biases = self.alpha * self.G_biases + (1. - self.alpha) * g2_biases\n",
        "            self.biases = self.biases - grad_biases * self.learning_rate / np.sqrt(self.G_biases + self.eps)\n",
        "\n",
        "\n",
        "        elif optimizer_type == Optimizers.adagrad:\n",
        "            # if self.m_weights is None:\n",
        "            #     self.m_weights = grad_weights\n",
        "            # if self.m_biases is None:\n",
        "            #     self.m_biases = grad_biases\n",
        "            # if self.v_weights is None:\n",
        "            #     self.v_weights = grad_weights **2\n",
        "            # if self.v_biases is None:\n",
        "            #     self.v_biases = grad_biases **2\n",
        "\n",
        "            self.m_weights = self.beta1 * self.m_weights + (1 - self.beta1) * grad_weights\n",
        "            self.v_weights = self.beta2 * self.v_weights + (1 - self.beta2) * (grad_weights **2)\n",
        "            self.weights -= self.learning_rate * self.m_weights / (np.sqrt(self.v_weights) + self.eps)\n",
        "                        \n",
        "            self.m_biases = self.beta1 * self.m_biases + (1 - self.beta1) * grad_biases\n",
        "            self.v_biases = self.beta2 * self.v_biases + (1 - self.beta2) * (grad_biases **2)\n",
        "            self.biases -= self.learning_rate * self.m_biases / (np.sqrt(self.v_biases) + self.eps)\n",
        "            \n",
        "        else:\n",
        "            raise NotImplementedError"
      ],
      "execution_count": 57,
      "outputs": []
    },
    {
      "cell_type": "code",
      "metadata": {
        "id": "2_r_XZ1ec6tA"
      },
      "source": [
        ""
      ],
      "execution_count": 32,
      "outputs": []
    },
    {
      "cell_type": "code",
      "metadata": {
        "id": "GIp2A7PmQMxX"
      },
      "source": [
        "class Network:\n",
        "    def __init__(self, network_architecture_list):\n",
        "        self.network = network_architecture_list\n",
        "\n",
        "    def forward(self, X):\n",
        "        \"\"\"\n",
        "        Compute activations of all network layers by applying them sequentially.\n",
        "        Return a list of activations for each layer. \n",
        "        Make sure last activation corresponds to network logits.\n",
        "        \"\"\"\n",
        "        activations = []\n",
        "        input = X\n",
        "\n",
        "        for layer in self.network:\n",
        "            input = layer.forward(input)\n",
        "            activations.append(input)\n",
        "            \n",
        "        assert len(activations) == len(self.network)\n",
        "        return activations\n",
        "\n",
        "    def predict(self, X):\n",
        "        \"\"\"\n",
        "        Compute network predictions.\n",
        "        \"\"\"\n",
        "        logits = forward(self.network, X)[-1]\n",
        "        return logits.argmax(axis=-1)\n",
        "\n",
        "    @staticmethod\n",
        "    def softmax_crossentropy_with_logits(logits, reference_answers):\n",
        "        \"\"\"Compute crossentropy from logits[batch,n_classes] and ids of correct answers\"\"\"\n",
        "        logits_for_answers = logits[np.arange(len(logits)), reference_answers]\n",
        "        adjusted_exp = np.exp(logits - np.max(logits, axis=1, keepdims=True))\n",
        "        xentropy = - logits_for_answers + np.log(np.sum(adjusted_exp, axis=-1))\n",
        "        return xentropy\n",
        "\n",
        "    @staticmethod\n",
        "    def softmax_robust(z):\n",
        "        adjusted_exp = np.exp(z - np.max(z, axis=1, keepdims=True))\n",
        "        return adjusted_exp / adjusted_exp.sum(axis=1, keepdims=True)\n",
        "\n",
        "    @staticmethod\n",
        "    def grad_softmax_crossentropy_with_logits(logits,reference_answers):\n",
        "        \"\"\"Compute crossentropy gradient from logits[batch,n_classes] and ids of correct answers\"\"\"\n",
        "        ones_for_answers = np.zeros_like(logits)\n",
        "        ones_for_answers[np.arange(len(logits)),reference_answers] = 1\n",
        "        softmax = softmax_robust(logits)\n",
        "        return (- ones_for_answers + softmax) / logits.shape[0]\n",
        "\n",
        "    def train(self, X, y):\n",
        "        \"\"\"\n",
        "        Train your network on a given batch of X and y.\n",
        "        You first need to run forward to get all layer activations.\n",
        "        Then you can run layer.backward going from last to first layer.\n",
        "        \n",
        "        After you called backward for all layers, all Dense layers have already made one gradient step.\n",
        "        \"\"\"\n",
        "        \n",
        "        # Get the layer activations\n",
        "        layer_activations = self.forward(X)\n",
        "        layer_inputs = [X] + layer_activations  #layer_input[i] is an input for network[i]\n",
        "        logits = layer_activations[-1]\n",
        "        \n",
        "        # Compute the loss and the initial gradient\n",
        "        loss = self.softmax_crossentropy_with_logits(logits, y)\n",
        "        loss_grad = self.grad_softmax_crossentropy_with_logits(logits, y)    \n",
        "        \n",
        "        # <your code: propagate gradients through the network>    \n",
        "        network = self.network[::-1]\n",
        "        layer_inputs = layer_inputs[::-1]\n",
        "        for idx, layer in enumerate(network):\n",
        "            loss_grad = layer.backward(layer_inputs[idx + 1], loss_grad)\n",
        "        return np.mean(loss)"
      ],
      "execution_count": 75,
      "outputs": []
    },
    {
      "cell_type": "code",
      "metadata": {
        "id": "2dy01kwiSjkl",
        "outputId": "cdcea49f-0b5d-4ac6-a522-a212f33041d3",
        "colab": {
          "base_uri": "https://localhost:8080/",
          "height": 69
        }
      },
      "source": [
        "network = []\n",
        "network.append(Dense(X_train.shape[1],100, xavier_initialization=False, optimizer_type=None))\n",
        "network.append(ReLU())\n",
        "network.append(Dense(100,200, xavier_initialization=False, optimizer_type=None))\n",
        "network.append(ReLU())\n",
        "network.append(Dense(200,10, xavier_initialization=False, optimizer_type=None))\n",
        "\n",
        "nn0 = Network(network)\n",
        "\n",
        "network = []\n",
        "network.append(Dense(X_train.shape[1],100, xavier_initialization=True, optimizer_type=None))\n",
        "network.append(ReLU())\n",
        "network.append(Dense(100,200, xavier_initialization=True, optimizer_type=None))\n",
        "network.append(ReLU())\n",
        "network.append(Dense(200,10, xavier_initialization=True, optimizer_type=None))\n",
        "\n",
        "nn1 = Network(network)\n",
        "\n",
        "network = []\n",
        "network.append(Dense(X_train.shape[1],100, xavier_initialization=True, optimizer_type=Optimizers.momentum))\n",
        "network.append(ReLU())\n",
        "network.append(Dense(100,200, xavier_initialization=True, optimizer_type=Optimizers.momentum))\n",
        "network.append(ReLU())\n",
        "network.append(Dense(200,10, xavier_initialization=True, optimizer_type=Optimizers.momentum))\n",
        "\n",
        "nn2 = Network(network)\n",
        "\n",
        "network_of_networks = [nn0, nn1, nn2]\n",
        "\n",
        "\n",
        "from IPython.display import clear_output\n",
        "from collections import defaultdict\n",
        "train_log = defaultdict(list)\n",
        "val_log = defaultdict(list)\n",
        "loss_log = defaultdict(list)\n",
        "for epoch in range(5):\n",
        "    fig, ax = plt.subplots(len(network_of_networks), 2, squeeze=False)\n",
        "    for idx, nn in enumerate(network_of_networks):\n",
        "        tmp = 0\n",
        "        for x_batch,y_batch in iterate_minibatches(X_train,y_train,batchsize=32,shuffle=True):\n",
        "            tmp += nn.train(x_batch,y_batch)\n",
        "        loss_log[idx].append(tmp)\n",
        "        train_log[idx].append(np.mean(nn.predict(X_train)==y_train))\n",
        "        val_log[idx].append(np.mean(nn.predict(X_val)==y_val))\n",
        "        clear_output()\n",
        "\n",
        "        print(\"Train accuracy:\",train_log[-1])\n",
        "        print(\"Val accuracy:\",val_log[-1])\n",
        "        ax[idx, 0].plot(train_log[idx], label='train accuracy')\n",
        "        ax[idx, 0].plot(val_log[idx], label='val accuracy')\n",
        "        ax[idx, 1].plot(loss_log[idx], label='loss')\n",
        "        ax[idx, 0].set_title(f\"Network {idx}\")\n",
        "    for i in range(len(network_of_networks)):\n",
        "        ax[i, 0].legend()\n",
        "        ax[i, 1].legend()\n",
        "        ax[i, 0].legend(loc='best')\n",
        "        ax[i, 1].legend(loc='best')\n",
        "        ax[i, 0].grid()\n",
        "        ax[i, 1].grid()\n",
        "    plt.grid()\n",
        "    plt.show()"
      ],
      "execution_count": null,
      "outputs": [
        {
          "output_type": "stream",
          "text": [
            "Train accuracy: []\n",
            "Val accuracy: []\n",
            "********************"
          ],
          "name": "stdout"
        }
      ]
    }
  ]
}